{
 "cells": [
  {
   "cell_type": "markdown",
   "metadata": {},
   "source": [
    "## Challenge 2: Sets\n",
    "\n",
    "There are a lot to learn about Python Sets and the information presented in the lesson is limited due to its length. To learn Python Sets in depth you are strongly encouraged to review the W3Schools tutorial on [Python Sets Examples and Methods](https://www.w3schools.com/python/python_sets.asp) before you work on this lab. Some difficult questions in this lab have their solutions in the W3Schools tutorial.\n",
    "\n",
    "#### First, import the Python `random` library."
   ]
  },
  {
   "cell_type": "code",
   "execution_count": 13,
   "metadata": {},
   "outputs": [],
   "source": [
    "import random\n",
    "from random import sample \n"
   ]
  },
  {
   "cell_type": "markdown",
   "metadata": {},
   "source": [
    "#### In the cell below, create a list named `sample_list_1` with 80 random values. \n",
    "\n",
    "Requirements:\n",
    "\n",
    "* Each value is an integer falling between 0 and 100.\n",
    "* Each value in the list is unique.\n",
    "\n",
    "Print `sample_list_1` to review its values\n",
    "\n",
    "*Hint: use `random.sample` ([reference](https://docs.python.org/3/library/random.html#random.sample)).*"
   ]
  },
  {
   "cell_type": "code",
   "execution_count": 133,
   "metadata": {},
   "outputs": [
    {
     "data": {
      "text/plain": [
       "range(0, 100)"
      ]
     },
     "execution_count": 133,
     "metadata": {},
     "output_type": "execute_result"
    }
   ],
   "source": [
    "range(100)"
   ]
  },
  {
   "cell_type": "code",
   "execution_count": 134,
   "metadata": {
    "scrolled": true
   },
   "outputs": [
    {
     "data": {
      "text/plain": [
       "[73,\n",
       " 71,\n",
       " 21,\n",
       " 79,\n",
       " 94,\n",
       " 4,\n",
       " 40,\n",
       " 29,\n",
       " 37,\n",
       " 53,\n",
       " 62,\n",
       " 87,\n",
       " 7,\n",
       " 85,\n",
       " 66,\n",
       " 18,\n",
       " 48,\n",
       " 56,\n",
       " 82,\n",
       " 35,\n",
       " 16,\n",
       " 8,\n",
       " 45,\n",
       " 54,\n",
       " 41,\n",
       " 67,\n",
       " 27,\n",
       " 6,\n",
       " 0,\n",
       " 69,\n",
       " 61,\n",
       " 13,\n",
       " 19,\n",
       " 60,\n",
       " 93,\n",
       " 57,\n",
       " 34,\n",
       " 24,\n",
       " 17,\n",
       " 31,\n",
       " 72,\n",
       " 15,\n",
       " 74,\n",
       " 14,\n",
       " 98,\n",
       " 63,\n",
       " 36,\n",
       " 43,\n",
       " 12,\n",
       " 44,\n",
       " 2,\n",
       " 49,\n",
       " 59,\n",
       " 64,\n",
       " 90,\n",
       " 1,\n",
       " 52,\n",
       " 55,\n",
       " 38,\n",
       " 33,\n",
       " 81,\n",
       " 20,\n",
       " 58,\n",
       " 25,\n",
       " 70,\n",
       " 95,\n",
       " 89,\n",
       " 88,\n",
       " 11,\n",
       " 22,\n",
       " 65,\n",
       " 92,\n",
       " 5,\n",
       " 42,\n",
       " 78,\n",
       " 91,\n",
       " 32,\n",
       " 77,\n",
       " 96,\n",
       " 50]"
      ]
     },
     "execution_count": 134,
     "metadata": {},
     "output_type": "execute_result"
    }
   ],
   "source": [
    "sample_list_1 = random.sample(range(100),80)\n",
    "sample_list_1"
   ]
  },
  {
   "cell_type": "markdown",
   "metadata": {},
   "source": [
    "#### Convert `sample_list_1` to a set called `set1`. Print the length of the set. Is its length still 80?"
   ]
  },
  {
   "cell_type": "code",
   "execution_count": 135,
   "metadata": {},
   "outputs": [
    {
     "name": "stdout",
     "output_type": "stream",
     "text": [
      "80\n"
     ]
    }
   ],
   "source": [
    "set1 = set(sample_list_1)\n",
    "print(len(set1))\n",
    "#Yes the length is still 80.\n"
   ]
  },
  {
   "cell_type": "markdown",
   "metadata": {},
   "source": [
    "#### Create another list named `sample_list_2` with 80 random values.\n",
    "\n",
    "Requirements:\n",
    "\n",
    "* Each value is an integer falling between 0 and 100.\n",
    "* The values in the list don't have to be unique.\n",
    "\n",
    "*Hint: Use a FOR loop and the `randrange()` function.*"
   ]
  },
  {
   "cell_type": "code",
   "execution_count": 46,
   "metadata": {},
   "outputs": [
    {
     "name": "stdout",
     "output_type": "stream",
     "text": [
      "34\n"
     ]
    }
   ],
   "source": [
    "randoms = randrange(100)"
   ]
  },
  {
   "cell_type": "code",
   "execution_count": 54,
   "metadata": {},
   "outputs": [
    {
     "name": "stdout",
     "output_type": "stream",
     "text": [
      "[35, 55, 41, 74, 88, 57, 80, 73, 5, 3, 35, 98, 23, 53, 2, 74, 63, 0, 94, 62, 11, 58, 40, 31, 38, 22, 78, 83, 38, 9, 42, 12, 33, 62, 69, 48, 47, 25, 98, 37, 40, 84, 58, 19, 35, 6, 48, 80, 63, 20, 96, 74, 10, 42, 35, 42, 22, 43, 89, 97, 15, 66, 99, 69, 40, 39, 68, 41, 73, 56, 22, 42, 25, 28, 87, 52, 63, 46, 13, 17]\n"
     ]
    }
   ],
   "source": [
    "from random import randrange \n",
    "sample_list_2 = list()\n",
    "count = 0 \n",
    "for s in sample_list_1:\n",
    "    sample_list_2.append(randrange(100))\n",
    "    count += 1\n",
    "    if count == 80:\n",
    "        break\n",
    "print(sample_list_2)\n"
   ]
  },
  {
   "cell_type": "markdown",
   "metadata": {},
   "source": [
    "#### Convert `sample_list_2` to a set called `set2`. Print the length of the set. Is its length still 80?"
   ]
  },
  {
   "cell_type": "code",
   "execution_count": 55,
   "metadata": {},
   "outputs": [
    {
     "name": "stdout",
     "output_type": "stream",
     "text": [
      "56\n"
     ]
    }
   ],
   "source": [
    "set2 = set(sample_list_2)\n",
    "print(len(set2))\n",
    "#No, the lenght of the set is below 80 as its elements can be repeated. Sets by default don't count repeated elements.\n",
    "#This means the length of a set that has repeated values will be always lower than the same one having unique values."
   ]
  },
  {
   "cell_type": "markdown",
   "metadata": {},
   "source": [
    "#### Identify the elements present in `set1` but not in `set2`. Assign the elements to a new set named `set3`."
   ]
  },
  {
   "cell_type": "code",
   "execution_count": 62,
   "metadata": {},
   "outputs": [
    {
     "name": "stdout",
     "output_type": "stream",
     "text": [
      "{7, 8, 14, 16, 27, 32, 34, 36, 44, 45, 49, 50, 51, 54, 59, 60, 61, 65, 67, 70, 71, 75, 76, 77, 81, 82, 85, 86, 90, 91, 92, 93}\n"
     ]
    }
   ],
   "source": [
    "set3 = set1 - set2\n",
    "print(set3)\n"
   ]
  },
  {
   "cell_type": "markdown",
   "metadata": {},
   "source": [
    "#### Identify the elements present in `set2` but not in `set1`. Assign the elements to a new set named `set4`."
   ]
  },
  {
   "cell_type": "code",
   "execution_count": 56,
   "metadata": {},
   "outputs": [
    {
     "name": "stdout",
     "output_type": "stream",
     "text": [
      "{99, 5, 10, 42, 15, 88, 28, 94}\n"
     ]
    }
   ],
   "source": [
    "set4 = set2 - set1\n",
    "print(set4)\n"
   ]
  },
  {
   "cell_type": "markdown",
   "metadata": {},
   "source": [
    "#### Now Identify the elements shared between `set1` and `set2`. Assign the elements to a new set named `set5`."
   ]
  },
  {
   "cell_type": "code",
   "execution_count": 58,
   "metadata": {},
   "outputs": [
    {
     "name": "stdout",
     "output_type": "stream",
     "text": [
      "{0, 2, 3, 6, 9, 11, 12, 13, 17, 19, 20, 22, 23, 25, 31, 33, 35, 37, 38, 39, 40, 41, 43, 46, 47, 48, 52, 53, 55, 56, 57, 58, 62, 63, 66, 68, 69, 73, 74, 78, 80, 83, 84, 87, 89, 96, 97, 98}\n"
     ]
    }
   ],
   "source": [
    "set5 = set2 & set1\n",
    "print(set5)\n"
   ]
  },
  {
   "cell_type": "markdown",
   "metadata": {},
   "source": [
    "#### What is the relationship among the following values:\n",
    "\n",
    "* len(set1)\n",
    "* len(set2)\n",
    "* len(set3)\n",
    "* len(set4)\n",
    "* len(set5)\n",
    "\n",
    "Think about the set operations that you used to create the sets and how the lengths of the sets are related to each other given those operations."
   ]
  },
  {
   "cell_type": "code",
   "execution_count": 78,
   "metadata": {},
   "outputs": [
    {
     "name": "stdout",
     "output_type": "stream",
     "text": [
      "Set 1, 80 unique numbers, so its length is 80\n",
      "Set 2, 80 numbers that may not be unique, so its length is 56 , which is less than 80.\n",
      "Set 3 is the numbers available only on Set 1, and not in Set 2 its length is 32\n",
      "Set 4 is the numbers available only on Set 2, not in Set 1, its length is 8 which is smaller than Set 3.\n",
      "Set 5 is the union of both Set 1 and Set 2, common numbers, its length is 48 which is the same as the total number of Set1 and Set2 minus their exclusive -Set3 and Set 4-\n"
     ]
    }
   ],
   "source": [
    "print('Set 1, 80 unique numbers, so its length is',len(set1))\n",
    "print('Set 2, 80 numbers that may not be unique, so its length is',len(set2),', which is less than 80.')\n",
    "print('Set 3 is the numbers available only on Set 1, and not in Set 2 its length is',len(set3))\n",
    "print('Set 4 is the numbers available only on Set 2, not in Set 1, its length is',len(set4),'which is smaller than Set 3.')\n",
    "print('Set 5 is the union of both Set 1 and Set 2, common numbers, its length is',len(set5),'which is the same as the total number of Set1 and Set2 minus their exclusive -Set3 and Set 4-')"
   ]
  },
  {
   "cell_type": "markdown",
   "metadata": {},
   "source": [
    "#### Create an empty set called `set6`."
   ]
  },
  {
   "cell_type": "code",
   "execution_count": 96,
   "metadata": {},
   "outputs": [],
   "source": [
    "set6 = set()\n"
   ]
  },
  {
   "cell_type": "markdown",
   "metadata": {},
   "source": [
    "#### Add `set3` and `set5` to `set6` using the Python Set `update` method."
   ]
  },
  {
   "cell_type": "code",
   "execution_count": 101,
   "metadata": {
    "scrolled": true
   },
   "outputs": [
    {
     "name": "stdout",
     "output_type": "stream",
     "text": [
      "{0, 2, 3, 6, 7, 8, 9, 11, 12, 13, 14, 16, 17, 19, 20, 22, 23, 25, 27, 31, 32, 33, 34, 35, 36, 37, 38, 39, 40, 41, 43, 44, 45, 46, 47, 48, 49, 50, 51, 52, 53, 54, 55, 56, 57, 58, 59, 60, 61, 62, 63, 65, 66, 67, 68, 69, 70, 71, 73, 74, 75, 76, 77, 78, 80, 81, 82, 83, 84, 85, 86, 87, 89, 90, 91, 92, 93, 96, 97, 98}\n"
     ]
    }
   ],
   "source": [
    "set6 = set()\n",
    "set6.update(set3,set5)\n",
    "print(set6)"
   ]
  },
  {
   "cell_type": "markdown",
   "metadata": {},
   "source": [
    "#### Check if `set1` and `set6` are equal."
   ]
  },
  {
   "cell_type": "code",
   "execution_count": 103,
   "metadata": {},
   "outputs": [
    {
     "name": "stdout",
     "output_type": "stream",
     "text": [
      "Those sets are equal!\n"
     ]
    }
   ],
   "source": [
    "if set1 == set6:\n",
    "    print('Those sets are equal!')\n",
    "else: print(':( not equal)')"
   ]
  },
  {
   "cell_type": "markdown",
   "metadata": {},
   "source": [
    "#### Check if `set1` contains `set2` using the Python Set `issubset` method. Then check if `set1` contains `set3`."
   ]
  },
  {
   "cell_type": "code",
   "execution_count": 111,
   "metadata": {},
   "outputs": [
    {
     "name": "stdout",
     "output_type": "stream",
     "text": [
      "Checking if set2 is a subset of set1......\n",
      "No... Set2 is not a subset of Set1\n",
      "Checking if set3 is a subset of set1.....\n",
      "Yes! Set3 is subset of Set1\n"
     ]
    }
   ],
   "source": [
    "print('Checking if set2 is a subset of set1......')\n",
    "if set2.issubset(set1):\n",
    "    print('Yes! Set2 is subset of Set1')\n",
    "else: print('No... Set2 is not a subset of Set1')\n",
    "    \n",
    "print('Checking if set3 is a subset of set1.....')\n",
    "if set3.issubset(set1):\n",
    "    print('Yes! Set3 is subset of Set1')\n",
    "else: print('No... Set3 is not a subset of Set1')"
   ]
  },
  {
   "cell_type": "markdown",
   "metadata": {},
   "source": [
    "#### Using the Python Set `union` method, aggregate `set3`, `set4`, and `set5`. Then aggregate `set1` and `set2`. \n",
    "\n",
    "#### Check if the aggregated values are equal."
   ]
  },
  {
   "cell_type": "code",
   "execution_count": 127,
   "metadata": {},
   "outputs": [
    {
     "name": "stdout",
     "output_type": "stream",
     "text": [
      "Both sets are equal!\n"
     ]
    }
   ],
   "source": [
    "set345 = set()\n",
    "set345.union(set3,set4,set5)\n",
    "set12 = set()\n",
    "set12.union(set1,set2)\n",
    "if set345 == set12:\n",
    "    print('Both sets are equal!')\n",
    "else: print('These sets are not equal!')"
   ]
  },
  {
   "cell_type": "markdown",
   "metadata": {},
   "source": [
    "#### Using the `pop` method, remove the first element from `set1`."
   ]
  },
  {
   "cell_type": "code",
   "execution_count": 136,
   "metadata": {},
   "outputs": [
    {
     "data": {
      "text/plain": [
       "79"
      ]
     },
     "execution_count": 136,
     "metadata": {},
     "output_type": "execute_result"
    }
   ],
   "source": [
    "set1.pop()"
   ]
  },
  {
   "cell_type": "markdown",
   "metadata": {},
   "source": [
    "#### Remove every element in the following list from `set1` if they are present in the set. Print the remaining elements.\n",
    "\n",
    "```\n",
    "list_to_remove = [1, 9, 11, 19, 21, 29, 31, 39, 41, 49, 51, 59, 61, 69, 71, 79, 81, 89, 91, 99]\n",
    "```"
   ]
  },
  {
   "cell_type": "code",
   "execution_count": 143,
   "metadata": {},
   "outputs": [
    {
     "name": "stdout",
     "output_type": "stream",
     "text": [
      "{2, 4, 5, 6, 7, 8, 12, 13, 14, 15, 16, 17, 18, 20, 22, 24, 25, 27, 32, 33, 34, 35, 36, 37, 38, 40, 42, 43, 44, 45, 48, 50, 52, 53, 54, 55, 56, 57, 58, 60, 62, 63, 64, 65, 66, 67, 70, 72, 73, 74, 77, 78, 82, 85, 87, 88, 90, 92, 93, 94, 95, 96, 98}\n",
      "The final lenght of Set1 is: 63\n"
     ]
    }
   ],
   "source": [
    "list_to_remove = [1, 9, 11, 19, 21, 29, 31, 39, 41, 49, 51, 59, 61, 69, 71, 79, 81, 89, 91, 99]\n",
    "for l in list_to_remove:\n",
    "    if l in set1:\n",
    "        set1.remove(l)\n",
    "    else: continue\n",
    "print(set1)\n",
    "print('The final lenght of Set1 is:',len(set1))"
   ]
  }
 ],
 "metadata": {
  "kernelspec": {
   "display_name": "Python 3",
   "language": "python",
   "name": "python3"
  },
  "language_info": {
   "codemirror_mode": {
    "name": "ipython",
    "version": 3
   },
   "file_extension": ".py",
   "mimetype": "text/x-python",
   "name": "python",
   "nbconvert_exporter": "python",
   "pygments_lexer": "ipython3",
   "version": "3.7.3"
  }
 },
 "nbformat": 4,
 "nbformat_minor": 2
}
